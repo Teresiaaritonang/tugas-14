{
  "nbformat": 4,
  "nbformat_minor": 0,
  "metadata": {
    "colab": {
      "provenance": []
    },
    "kernelspec": {
      "name": "python3",
      "display_name": "Python 3"
    },
    "language_info": {
      "name": "python"
    }
  },
  "cells": [
    {
      "cell_type": "code",
      "execution_count": 1,
      "metadata": {
        "colab": {
          "base_uri": "https://localhost:8080/"
        },
        "id": "Et58y_NdUaMr",
        "outputId": "6eb19f31-c72b-419b-a79d-a290614ce263"
      },
      "outputs": [
        {
          "output_type": "stream",
          "name": "stdout",
          "text": [
            "4\n"
          ]
        }
      ],
      "source": [
        "# Convert One String to Another with minimum operation in Python\n",
        "\n",
        "def findMinOperation(s1, s2, index1, index2):\n",
        "    if index1 == len(s1):\n",
        "        return len(s2)-index2\n",
        "    if index2 == len(s2):\n",
        "        return len(s1)-index1\n",
        "    if s1[index1] == s2[index2]:\n",
        "        return findMinOperation(s1, s2, index1+1, index2+1)\n",
        "    else:\n",
        "        deleteOp = 1 + findMinOperation(s1, s2, index1, index2+1)\n",
        "        insertOp = 1 + findMinOperation(s1, s2, index1+1, index2)\n",
        "        replaceOp = 1 + findMinOperation(s1, s2, index1+1, index2+1)\n",
        "        return min (deleteOp, insertOp, replaceOp)\n",
        "\n",
        "print(findMinOperation(\"table\", \"tbrltt\", 0, 0))"
      ]
    }
  ]
}