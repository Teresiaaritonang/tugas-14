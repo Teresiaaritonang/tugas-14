{
  "nbformat": 4,
  "nbformat_minor": 0,
  "metadata": {
    "colab": {
      "provenance": []
    },
    "kernelspec": {
      "name": "python3",
      "display_name": "Python 3"
    },
    "language_info": {
      "name": "python"
    }
  },
  "cells": [
    {
      "cell_type": "code",
      "execution_count": 1,
      "metadata": {
        "id": "BOg5ch2IrLGA",
        "outputId": "998fec9f-5e20-40e9-adb2-571e4b7b7107",
        "colab": {
          "base_uri": "https://localhost:8080/"
        }
      },
      "outputs": [
        {
          "output_type": "stream",
          "name": "stdout",
          "text": [
            "6\n"
          ]
        }
      ],
      "source": [
        "# Number Factor Problem  in Python\n",
        "\n",
        "def numberFactor(n):\n",
        "    if n in (0,1,2):\n",
        "        return 1\n",
        "    elif n == 3:\n",
        "        return 2\n",
        "    else:\n",
        "        subP1 = numberFactor(n-1)\n",
        "        subP2 = numberFactor(n-3)\n",
        "        subP3 = numberFactor(n-4)\n",
        "        return subP1+subP2+subP3\n",
        "\n",
        "print(numberFactor(5))"
      ]
    }
  ]
}