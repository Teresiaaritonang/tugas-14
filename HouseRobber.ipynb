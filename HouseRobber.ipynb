{
  "nbformat": 4,
  "nbformat_minor": 0,
  "metadata": {
    "colab": {
      "provenance": []
    },
    "kernelspec": {
      "name": "python3",
      "display_name": "Python 3"
    },
    "language_info": {
      "name": "python"
    }
  },
  "cells": [
    {
      "cell_type": "code",
      "execution_count": 1,
      "metadata": {
        "colab": {
          "base_uri": "https://localhost:8080/"
        },
        "id": "lS5Wa_e4Vn7w",
        "outputId": "105bf270-7acc-4a74-d189-eb0231edb48e"
      },
      "outputs": [
        {
          "output_type": "stream",
          "name": "stdout",
          "text": [
            "41\n"
          ]
        }
      ],
      "source": [
        "# House Robber Problem  in Python\n",
        "\n",
        "def houseRobber(houses, currentIndex):\n",
        "    if currentIndex >= len(houses):\n",
        "        return 0\n",
        "    else:\n",
        "        stealFirstHouse = houses[currentIndex] + houseRobber(houses, currentIndex + 2)\n",
        "        skipFirstHouse = houseRobber(houses, currentIndex+1)\n",
        "        return max(stealFirstHouse, skipFirstHouse)\n",
        "\n",
        "houses = [6,7,1,30,8,2,4]\n",
        "print(houseRobber(houses, 0))"
      ]
    }
  ]
}