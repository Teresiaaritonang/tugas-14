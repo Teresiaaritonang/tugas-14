{
  "nbformat": 4,
  "nbformat_minor": 0,
  "metadata": {
    "colab": {
      "provenance": []
    },
    "kernelspec": {
      "name": "python3",
      "display_name": "Python 3"
    },
    "language_info": {
      "name": "python"
    }
  },
  "cells": [
    {
      "cell_type": "code",
      "execution_count": 1,
      "metadata": {
        "colab": {
          "base_uri": "https://localhost:8080/"
        },
        "id": "dmS72lZhT7Zb",
        "outputId": "f74ddd37-0434-4bd4-9c24-ca80186556d4"
      },
      "outputs": [
        {
          "output_type": "stream",
          "name": "stdout",
          "text": [
            "Total value obtained: 240.0\n"
          ]
        }
      ],
      "source": [
        "# Fractional Knapsack Problem  in Python\n",
        "\n",
        "class Item:\n",
        "    def __init__(self, weight, value):\n",
        "        self.weight = weight\n",
        "        self.value = value\n",
        "        self.ratio = value / weight\n",
        "\n",
        "def knapsackMethod(items, capacity):\n",
        "    items.sort(key=lambda x: x.ratio, reverse = True)\n",
        "    usedCapacity = 0\n",
        "    totalValue = 0\n",
        "    for i in items:\n",
        "        if usedCapacity + i.weight <= capacity:\n",
        "            usedCapacity += i.weight\n",
        "            totalValue += i.value\n",
        "        else:\n",
        "            unusedWeight = capacity - usedCapacity\n",
        "            value = i.ratio * unusedWeight\n",
        "            usedCapacity += unusedWeight\n",
        "            totalValue += value\n",
        "\n",
        "        if usedCapacity == capacity:\n",
        "            break\n",
        "    print(\"Total value obtained: \"+str(totalValue))\n",
        "\n",
        "item1 = Item(20,100)\n",
        "item2 = Item(30,120)\n",
        "item3 = Item(10,60)\n",
        "cList = [item1, item2, item3]\n",
        "\n",
        "knapsackMethod(cList, 50)"
      ]
    }
  ]
}