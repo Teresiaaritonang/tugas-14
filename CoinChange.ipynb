{
  "nbformat": 4,
  "nbformat_minor": 0,
  "metadata": {
    "colab": {
      "provenance": []
    },
    "kernelspec": {
      "name": "python3",
      "display_name": "Python 3"
    },
    "language_info": {
      "name": "python"
    }
  },
  "cells": [
    {
      "cell_type": "code",
      "execution_count": 1,
      "metadata": {
        "colab": {
          "base_uri": "https://localhost:8080/"
        },
        "id": "aRqq0YgMTgZa",
        "outputId": "0346b7de-737c-4fb6-ebf1-80910545b58e"
      },
      "outputs": [
        {
          "output_type": "stream",
          "name": "stdout",
          "text": [
            "100\n",
            "100\n",
            "1\n"
          ]
        }
      ],
      "source": [
        "# Coin Change Problem  in Python\n",
        "\n",
        "\n",
        "def coinChange(totalNumber, coins):\n",
        "    N = totalNumber\n",
        "    coins.sort()\n",
        "    index = len(coins)-1\n",
        "    while True:\n",
        "        coinValue = coins[index]\n",
        "        if N >= coinValue:\n",
        "            print(coinValue)\n",
        "            N = N - coinValue\n",
        "        if N < coinValue:\n",
        "            index -= 1\n",
        "\n",
        "        if N == 0:\n",
        "            break\n",
        "\n",
        "coins = [1,2,5,20,50,100]\n",
        "coinChange(201, coins)"
      ]
    }
  ]
}