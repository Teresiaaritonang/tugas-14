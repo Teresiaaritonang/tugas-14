{
  "nbformat": 4,
  "nbformat_minor": 0,
  "metadata": {
    "colab": {
      "provenance": []
    },
    "kernelspec": {
      "name": "python3",
      "display_name": "Python 3"
    },
    "language_info": {
      "name": "python"
    }
  },
  "cells": [
    {
      "cell_type": "code",
      "execution_count": 1,
      "metadata": {
        "colab": {
          "base_uri": "https://localhost:8080/"
        },
        "id": "F6NdysL6qwIA",
        "outputId": "2dab9dc7-263c-4e2e-c080-4ba56a1dce03"
      },
      "outputs": [
        {
          "output_type": "stream",
          "name": "stdout",
          "text": [
            "5\n"
          ]
        }
      ],
      "source": [
        "# Longest Polindromic Subsequence in Python\n",
        "\n",
        "def findLPS(s, startIndex, endIndex):\n",
        "    if startIndex > endIndex:\n",
        "        return 0\n",
        "    elif startIndex == endIndex:\n",
        "        return 1\n",
        "    elif s[startIndex] == s[endIndex]:\n",
        "        return 2 + findLPS(s, startIndex+1, endIndex-1)\n",
        "    else:\n",
        "        op1 = findLPS(s, startIndex, endIndex-1)\n",
        "        op2 = findLPS(s, startIndex+1, endIndex)\n",
        "        return max(op1, op2)\n",
        "\n",
        "print(findLPS(\"ELRMENMET\", 0, 8))"
      ]
    }
  ]
}