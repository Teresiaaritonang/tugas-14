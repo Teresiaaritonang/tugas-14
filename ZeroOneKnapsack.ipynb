{
  "nbformat": 4,
  "nbformat_minor": 0,
  "metadata": {
    "colab": {
      "provenance": []
    },
    "kernelspec": {
      "name": "python3",
      "display_name": "Python 3"
    },
    "language_info": {
      "name": "python"
    }
  },
  "cells": [
    {
      "cell_type": "code",
      "execution_count": 1,
      "metadata": {
        "id": "Jyl7_xSayUBe",
        "colab": {
          "base_uri": "https://localhost:8080/"
        },
        "outputId": "52e785a6-cac7-4471-b5b1-4552f8db0889"
      },
      "outputs": [
        {
          "output_type": "stream",
          "name": "stdout",
          "text": [
            "98\n"
          ]
        }
      ],
      "source": [
        "# Zero One Knapsack in Python\n",
        "\n",
        "class Item:\n",
        "    def __init__(self, profit, weight):\n",
        "        self.profit = profit\n",
        "        self.weight = weight\n",
        "\n",
        "def zoKnapsack(items, capacity, currentIndex):\n",
        "    if capacity <=0 or currentIndex < 0 or currentIndex >= len(items):\n",
        "        return 0\n",
        "    elif items[currentIndex].weight <= capacity:\n",
        "        profit1 = items[currentIndex].profit + zoKnapsack(items, capacity-items[currentIndex].weight, currentIndex+1)\n",
        "        profit2 = zoKnapsack(items, capacity, currentIndex+1)\n",
        "        return max(profit1, profit2)\n",
        "    else:\n",
        "        return 0\n",
        "\n",
        "mango = Item(31, 3)\n",
        "apple = Item(26, 1)\n",
        "orange = Item(17, 2)\n",
        "banana = Item(72, 5)\n",
        "\n",
        "items = [mango, apple, orange, banana]\n",
        "\n",
        "print(zoKnapsack(items, 7, 0))"
      ]
    }
  ]
}