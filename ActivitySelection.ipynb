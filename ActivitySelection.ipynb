{
  "nbformat": 4,
  "nbformat_minor": 0,
  "metadata": {
    "colab": {
      "provenance": []
    },
    "kernelspec": {
      "name": "python3",
      "display_name": "Python 3"
    },
    "language_info": {
      "name": "python"
    }
  },
  "cells": [
    {
      "cell_type": "code",
      "execution_count": 1,
      "metadata": {
        "id": "7aEGrNT3N8i9",
        "colab": {
          "base_uri": "https://localhost:8080/"
        },
        "outputId": "091db9f2-d927-4432-a66f-fbd923412ff7"
      },
      "outputs": [
        {
          "output_type": "stream",
          "name": "stdout",
          "text": [
            "A3\n",
            "A2\n",
            "A5\n",
            "A6\n"
          ]
        }
      ],
      "source": [
        "# Activity Selection Problem  in Python\n",
        "\n",
        "activities = [[\"A1\", 0, 6],\n",
        "              [\"A2\", 3, 4],\n",
        "              [\"A3\", 1, 2],\n",
        "              [\"A4\", 5, 8],\n",
        "              [\"A5\", 5, 7],\n",
        "              [\"A6\", 8, 9]\n",
        "                ]\n",
        "\n",
        "\n",
        "def printMaxActivities(activities):\n",
        "    activities.sort(key=lambda x: x[2])\n",
        "    i = 0\n",
        "    firstA = activities[i][0]\n",
        "    print(firstA)\n",
        "    for j in range(len(activities)):\n",
        "        if activities[j][1] > activities[i][2]:\n",
        "            print(activities[j][0])\n",
        "            i = j\n",
        "\n",
        "printMaxActivities(activities)"
      ]
    }
  ]
}